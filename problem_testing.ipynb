{
 "cells": [
  {
   "cell_type": "code",
   "execution_count": null,
   "metadata": {},
   "outputs": [],
   "source": [
    "import numpy as np\n",
    "import matplotlib.pyplot as plt"
   ]
  },
  {
   "cell_type": "code",
   "execution_count": null,
   "metadata": {},
   "outputs": [],
   "source": [
    "def make_gray_image(image):\n",
    "    gray_image = image\n",
    "    if len(image.shape) == 3 and image.shape[2] == 3:\n",
    "        gray_image = np.dot(image[..., :3], [0.30, 0.59, 0.11]).astype(np.uint8)\n",
    "    return gray_image\n",
    "\n",
    "def custom_gray_image_generator():\n",
    "    custom_image = np.empty((16, 16), dtype=np.uint8)\n",
    "    val = 0\n",
    "    for i in range(16):\n",
    "        for j in range(16):\n",
    "            custom_image[i, j] = val\n",
    "            val += 1\n",
    "    return custom_image\n",
    "\n",
    "def make_salt_pepper_noise(image):\n",
    "    salt_pepper_probability = 0.17\n",
    "    number_of_salt_pepper = np.ceil(salt_pepper_probability * image.size).astype(int)\n",
    "\n",
    "    noisy_image = np.copy(image).astype(np.uint8)\n",
    "    for i in range(number_of_salt_pepper):\n",
    "        random_coordinate = np.random.randint(0, image.shape)\n",
    "        if i & 1 == 0:\n",
    "            noisy_image[random_coordinate[0], random_coordinate[1]] = 255\n",
    "        else:\n",
    "            noisy_image[random_coordinate[0], random_coordinate[1]] = 0\n",
    "    return noisy_image"
   ]
  },
  {
   "cell_type": "code",
   "execution_count": null,
   "metadata": {},
   "outputs": [],
   "source": [
    "rgb_image = plt.imread('images/moon.jpg')\n",
    "gray_image = make_gray_image(rgb_image)\n",
    "noisy_image = make_salt_pepper_noise(gray_image)\n",
    "\n",
    "noisy_image"
   ]
  },
  {
   "cell_type": "code",
   "execution_count": null,
   "metadata": {},
   "outputs": [],
   "source": [
    "def calculate_window(x, y, kernel_size, image):\n",
    "    window_left = kernel_size//2\n",
    "    window_right = window_left+1\n",
    "    height, width = image.shape\n",
    "\n",
    "    window = []\n",
    "    for i in range(x-window_left, x+window_right):\n",
    "        row = []\n",
    "        for j in range(y - window_left, y + window_right):\n",
    "            row.append(image[i % height, j % width])\n",
    "        window.append(np.array(row))\n",
    "    return np.array(window)"
   ]
  },
  {
   "cell_type": "code",
   "execution_count": null,
   "metadata": {},
   "outputs": [],
   "source": [
    "def average_filter(image, kernel_size):\n",
    "    average_mask = np.ones((kernel_size, kernel_size)) / (kernel_size * kernel_size)\n",
    "    height, width = image.shape\n",
    "\n",
    "    filter_image = np.zeros_like(image)\n",
    "    for i in range(0, height):\n",
    "        for j in range(0, width):\n",
    "            average_value = np.sum(average_mask * calculate_window(i, j, kernel_size, image))\n",
    "            filter_image[i, j] = average_value\n",
    "\n",
    "    return filter_image"
   ]
  },
  {
   "cell_type": "code",
   "execution_count": null,
   "metadata": {},
   "outputs": [],
   "source": [
    "avg_kernel_size = 17\n",
    "average_filter_image = average_filter(noisy_image, kernel_size=avg_kernel_size)"
   ]
  },
  {
   "cell_type": "code",
   "execution_count": null,
   "metadata": {},
   "outputs": [],
   "source": [
    "plt.subplot(211)\n",
    "plt.imshow(noisy_image, cmap='gray', vmin=0, vmax=255)\n",
    "plt.subplot(212)\n",
    "plt.imshow(average_filter_image, cmap='gray', vmin=0, vmax=255)\n",
    "\n",
    "plt.tight_layout()\n",
    "plt.show()"
   ]
  }
 ],
 "metadata": {
  "kernelspec": {
   "display_name": "dip_venv",
   "language": "python",
   "name": "python3"
  },
  "language_info": {
   "codemirror_mode": {
    "name": "ipython",
    "version": 3
   },
   "file_extension": ".py",
   "mimetype": "text/x-python",
   "name": "python",
   "nbconvert_exporter": "python",
   "pygments_lexer": "ipython3",
   "version": "3.9.6"
  },
  "orig_nbformat": 4
 },
 "nbformat": 4,
 "nbformat_minor": 2
}
