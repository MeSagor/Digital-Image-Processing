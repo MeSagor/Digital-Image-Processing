{
 "cells": [
  {
   "cell_type": "code",
   "execution_count": null,
   "metadata": {},
   "outputs": [],
   "source": [
    "import numpy as np\n",
    "import matplotlib.pyplot as plt\n",
    "from skimage.metrics import peak_signal_noise_ratio\n"
   ]
  },
  {
   "cell_type": "code",
   "execution_count": null,
   "metadata": {},
   "outputs": [],
   "source": [
    "def make_gray_image(image):\n",
    "    gray_image = image\n",
    "    if len(image.shape) == 3:\n",
    "        gray_image = np.mean(image, axis=2).astype(np.uint8)\n",
    "    return gray_image"
   ]
  },
  {
   "cell_type": "code",
   "execution_count": null,
   "metadata": {},
   "outputs": [],
   "source": [
    "def add_gaussian_noise(image, mean, std):\n",
    "    noisy_image = np.copy(image).astype(np.uint8)\n",
    "    noise = np.random.normal(mean, std, image.shape)\n",
    "    noisy_image = noisy_image + noise\n",
    "    noisy_image = ((noisy_image / np.max(noisy_image)) * 255)\n",
    "    return noisy_image"
   ]
  },
  {
   "cell_type": "code",
   "execution_count": null,
   "metadata": {},
   "outputs": [],
   "source": [
    "def D(image_size):\n",
    "    kernel = np.zeros((image_size, image_size))\n",
    "    center = image_size // 2\n",
    "    for u in range(image_size):\n",
    "        for v in range(image_size):\n",
    "            x, y = u - center, v - center\n",
    "            kernel[u,v] = np.sqrt(x**2 + y**2)\n",
    "    return kernel"
   ]
  },
  {
   "cell_type": "code",
   "execution_count": null,
   "metadata": {},
   "outputs": [],
   "source": [
    "def ideal_lpf(D0, image_size):\n",
    "    ff = D(image_size) <= D0\n",
    "    return ff\n",
    "\n",
    "\n",
    "def ga_lpf(D0, image_size):\n",
    "    ff = np.exp(-(D(image_size)**2) / (2*(D0**2)))\n",
    "    return ff\n",
    "\n",
    "# def ga_lpf(D0, image_size):\n",
    "#    filter_function = np.exp(-(D(image_size=image_size)**2) / (2*D0**2))\n",
    "#    return filter_function\n",
    "\n",
    "\n",
    "def bu_lpf(D0, n, image_size):\n",
    "    ff = 1/(1 + (D(image_size)/D0)**(2*n))\n",
    "    return ff"
   ]
  },
  {
   "cell_type": "code",
   "execution_count": null,
   "metadata": {},
   "outputs": [],
   "source": [
    "rgb_image = plt.imread('./images/lena.jpg')\n",
    "gray_image = make_gray_image(rgb_image)\n",
    "\n",
    "noisy_image = add_gaussian_noise(gray_image, 0, 25)\n",
    "\n",
    "\n",
    "\n",
    "\n",
    "dft_noisy = np.fft.fft2(noisy_image)\n",
    "dft_noisy = np.fft.fftshift(dft_noisy)\n",
    "\n",
    "glpf = ga_lpf(40, noisy_image.shape[0])\n",
    "ilpf = ideal_lpf(40, noisy_image.shape[0])\n",
    "blpf = bu_lpf(40, 4, noisy_image.shape[0])\n",
    "\n",
    "\n",
    "gfi = dft_noisy * glpf\n",
    "ifi = dft_noisy * ilpf\n",
    "bfi = dft_noisy * blpf\n",
    "\n",
    "\n",
    "gfi1 = np.fft.ifftshift(gfi)\n",
    "ifi1 = np.fft.ifftshift(ifi)\n",
    "bfi1 = np.fft.ifftshift(bfi)\n",
    "\n",
    "g = np.fft.ifft2(gfi1).real.astype(np.uint8)\n",
    "i = np.fft.ifft2(ifi1).real.astype(np.uint8)\n",
    "b = np.fft.ifft2(bfi1).real.astype(np.uint8)\n",
    "\n",
    "\n",
    "plt.subplot(221)\n",
    "plt.imshow(noisy_image, cmap='gray')\n",
    "plt.subplot(222)\n",
    "plt.imshow(g, cmap='gray')\n",
    "plt.subplot(223)\n",
    "plt.imshow(i, cmap='gray')\n",
    "plt.subplot(224)\n",
    "plt.imshow(b, cmap='gray')\n",
    "\n",
    "plt.show()"
   ]
  },
  {
   "cell_type": "code",
   "execution_count": null,
   "metadata": {},
   "outputs": [],
   "source": [
    "noisy_image"
   ]
  }
 ],
 "metadata": {
  "kernelspec": {
   "display_name": "dip_venv",
   "language": "python",
   "name": "python3"
  },
  "language_info": {
   "codemirror_mode": {
    "name": "ipython",
    "version": 3
   },
   "file_extension": ".py",
   "mimetype": "text/x-python",
   "name": "python",
   "nbconvert_exporter": "python",
   "pygments_lexer": "ipython3",
   "version": "3.9.6"
  },
  "orig_nbformat": 4
 },
 "nbformat": 4,
 "nbformat_minor": 2
}
